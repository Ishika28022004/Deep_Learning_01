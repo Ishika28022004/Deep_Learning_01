{
 "cells": [
  {
   "cell_type": "code",
   "execution_count": 17,
   "id": "654750ca",
   "metadata": {},
   "outputs": [],
   "source": [
    "import cv2\n",
    "import os\n",
    "import numpy as np\n",
    "import pandas as pd\n",
    "from datetime import datetime"
   ]
  },
  {
   "cell_type": "code",
   "execution_count": 19,
   "id": "b6325832",
   "metadata": {},
   "outputs": [],
   "source": [
    "df=pd.read_csv('record/student_record.csv')\n",
    "df\n",
    "attendance=os.makedirs('attendance',exist_ok=True)\n",
    "\n",
    "file_path = 'attendance/'+datetime.now().strftime('%d-%m-%Y')+'.csv'\n",
    "with open(file_path, 'w') as f:\n",
    "    f.write('ID,Name,DateTime\\n')"
   ]
  },
  {
   "cell_type": "code",
   "execution_count": 21,
   "id": "a0aba5a7",
   "metadata": {},
   "outputs": [],
   "source": [
    "cap=cv2.VideoCapture(0)\n",
    "classifier=cv2.CascadeClassifier('haarcascade_frontalface_default.xml')\n",
    "# Create recognizer\n",
    "recognizer = cv2.face.LBPHFaceRecognizer_create()\n",
    "recognizer.read('recognizer/trainer.yml')\n",
    "\n",
    "df=pd.read_csv('record/student_record.csv')\n",
    "#[{id:1,name:\"sudhanshu\"},{id:2,name:\"sudhanshu\"}]\n",
    "\n",
    "\n",
    "while(True):\n",
    "    res,frame=cap.read()\n",
    "    gray=cv2.cvtColor(frame,cv2.COLOR_BGR2GRAY)\n",
    "    faces=classifier.detectMultiScale(gray,1.3,minNeighbors=5)\n",
    "    for x,y,w,h in faces:\n",
    "        cv2.rectangle(frame,(x,y),(x+w,y+h),(0,255,0),2)\n",
    "        id_,conf=recognizer.predict(gray[y:y+h,x:x+w])\n",
    "    if(conf<50):\n",
    "        name=(df[df['ID'] == id_]['Name']).values[0]\n",
    "        with open(file_path, 'a') as f:\n",
    "            f.write(f'{id_},{name},{datetime.now().strftime(\"%d-%m-%Y %H:%M:%S\")}\\n')\n",
    "            break\n",
    "\n",
    "    else:\n",
    "        name=\"unknown\"\n",
    "    cv2.putText(frame,str(name),(x,y+h),cv2.FONT_HERSHEY_SIMPLEX,1,(255,0,0),2)\n",
    "    cv2.imshow('Face recognition system',frame)\n",
    "    if cv2.waitKey(1) & 0xFF == ord('q'):\n",
    "        break\n",
    "cap.release()\n",
    "cv2.destroyAllWindows()"
   ]
  }
 ],
 "metadata": {
  "kernelspec": {
   "display_name": "Python 3",
   "language": "python",
   "name": "python3"
  },
  "language_info": {
   "codemirror_mode": {
    "name": "ipython",
    "version": 3
   },
   "file_extension": ".py",
   "mimetype": "text/x-python",
   "name": "python",
   "nbconvert_exporter": "python",
   "pygments_lexer": "ipython3",
   "version": "3.8.0"
  }
 },
 "nbformat": 4,
 "nbformat_minor": 5
}
