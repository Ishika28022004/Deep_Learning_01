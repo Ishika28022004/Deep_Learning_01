{
 "cells": [
  {
   "cell_type": "code",
   "execution_count": 2,
   "id": "0f1bdebb",
   "metadata": {},
   "outputs": [],
   "source": [
    "import cv2\n",
    "import numpy as np\n",
    "import os"
   ]
  },
  {
   "cell_type": "code",
   "execution_count": null,
   "id": "bf41e38b",
   "metadata": {},
   "outputs": [],
   "source": [
    "cap=cv2.VideoCapture(0)\n",
    "classifier=cv2.CascadeClassifier('haarcascade_frontalface_default.xml')\n",
    "# Create recognizer\n",
    "recognizer = cv2.face.LBPHFaceRecognizer_create()\n",
    "recognizer.read('trainingData.yml')\n",
    "imagePaths = [os.path.join(\"images\", f) for f in os.listdir(\"images\")]\n",
    "names=[]\n",
    "ids=[]\n",
    "for imagePath in imagePaths:\n",
    "    ID = int(os.path.split(imagePath)[-1].split('.')[0].split('_')[1])\n",
    "    name=os.path.split(imagePath)[-1].split('.')[0].split('_')[0]\n",
    "    ids.append(ID)\n",
    "    names.append(name)\n",
    "\n",
    "while(True):\n",
    "    res,frame=cap.read()\n",
    "    gray=cv2.cvtColor(frame,cv2.COLOR_BGR2GRAY)\n",
    "    faces=classifier.detectMultiScale(gray,1.3,minNeighbors=5)\n",
    "    for(x,y,w,h) in faces:\n",
    "        cv2.rectangle(frame,(x,y),(x+w,y+h),(0,0,255),2)\n",
    "        id_,conf=recognizer.predict(gray[y:y+h,x:x+w])\n",
    "\n",
    "        if(conf<70):\n",
    "            name=names[id_]\n",
    "        else:\n",
    "            name=\"Unknown\"\n",
    "        cv2.putText(frame,name, (x+100,y+h),cv2.FONT_HERSHEY_SIMPLEX,1,(0,255,0),2)\n",
    "        cv2.imshow('Face recognition System',frame)\n",
    "\n",
    "    if cv2.waitKey(1) & 0xFF == ord('q'):\n",
    "        break\n",
    "cap.release()\n",
    "cv2.destroyAllWindows()"
   ]
  },
  {
   "cell_type": "code",
   "execution_count": null,
   "id": "42e1190b",
   "metadata": {},
   "outputs": [],
   "source": []
  }
 ],
 "metadata": {
  "kernelspec": {
   "display_name": "Python 3",
   "language": "python",
   "name": "python3"
  },
  "language_info": {
   "codemirror_mode": {
    "name": "ipython",
    "version": 3
   },
   "file_extension": ".py",
   "mimetype": "text/x-python",
   "name": "python",
   "nbconvert_exporter": "python",
   "pygments_lexer": "ipython3",
   "version": "3.8.0"
  }
 },
 "nbformat": 4,
 "nbformat_minor": 5
}
