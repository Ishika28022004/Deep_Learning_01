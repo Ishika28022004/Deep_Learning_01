{
 "cells": [
  {
   "cell_type": "code",
   "execution_count": 1,
   "id": "a255a197",
   "metadata": {},
   "outputs": [],
   "source": [
    "import cv2\n",
    "import os\n",
    "import numpy as np"
   ]
  },
  {
   "cell_type": "code",
   "execution_count": 9,
   "id": "476d9049",
   "metadata": {},
   "outputs": [],
   "source": [
    "folder=os.makedirs('dataset',exist_ok=True)\n",
    "record=os.makedirs('record',exist_ok=True)\n",
    "\n",
    "file_path = 'record/student_record.csv'\n",
    "with open(file_path, 'w') as f:\n",
    "    f.write('ID,Name\\n')"
   ]
  },
  {
   "cell_type": "code",
   "execution_count": 11,
   "id": "1f458b0b",
   "metadata": {},
   "outputs": [
    {
     "name": "stdout",
     "output_type": "stream",
     "text": [
      "dataset saved successfully\n"
     ]
    }
   ],
   "source": [
    "cap=cv2.VideoCapture(0)\n",
    "classifier=cv2.CascadeClassifier('haarcascade_frontalface_default.xml')\n",
    "\n",
    "\n",
    "id=int(input(\"Enter your id:\"))\n",
    "name=input(\"Enter your name:\")\n",
    "sample=0\n",
    "while(True):\n",
    "    res,frame=cap.read()\n",
    "    gray=cv2.cvtColor(frame,cv2.COLOR_BGR2GRAY)\n",
    "    faces=classifier.detectMultiScale(gray,1.3,minNeighbors=5)\n",
    "    for x,y,w,h in faces:\n",
    "        cv2.rectangle(frame,(x,y),(x+w,y+h),(0,255,0),2)\n",
    "        cv2.imshow('Face recognition system',frame)\n",
    "    if(cv2.waitKey(1) & 0xFF == ord('s')):\n",
    "        cv2.imwrite(\"dataset/\"+name+\"_\"+str(id)+\"_\"+str(sample)+\".jpg\",gray[y:y+h,x:x+w])\n",
    "        sample+=1\n",
    "        if(sample>=5):\n",
    "            with open(file_path, 'a') as f:\n",
    "                f.write(f\"{id},{name}\\n\")           \n",
    "            print(\"dataset saved successfully\")\n",
    "            break\n",
    "    \n",
    "    if cv2.waitKey(1) & 0xFF == ord('q'):\n",
    "        break\n",
    "cap.release()\n",
    "cv2.destroyAllWindows()"
   ]
  },
  {
   "cell_type": "code",
   "execution_count": 2,
   "id": "e2375e73",
   "metadata": {},
   "outputs": [],
   "source": [
    "faces=[]\n",
    "IDs=[]\n",
    "def getImagesWithID(path):\n",
    "    imagePaths = [os.path.join(path, f) for f in os.listdir(path)]\n",
    "    \n",
    "    for imagePath in imagePaths:\n",
    "        faceImg = cv2.imread(imagePath, cv2.IMREAD_GRAYSCALE)  # Use grayscale\n",
    "        if faceImg is None:\n",
    "            print(f\"Could not read image: {imagePath}\")\n",
    "            continue\n",
    "        faceNp = np.array(faceImg, 'uint8')\n",
    "\n",
    "        try:\n",
    "            ID = int(os.path.split(imagePath)[-1].split('.')[0].split('_')[1])\n",
    "        except Exception as e:\n",
    "            print(f\"Filename format issue in: {imagePath} — {e}\")\n",
    "            continue\n",
    "        print(ID)\n",
    "        \n",
    "        faces.append(faceNp)\n",
    "        IDs.append(ID)\n",
    "    \n",
    "    return np.array(IDs, dtype=np.int32), faces"
   ]
  },
  {
   "cell_type": "code",
   "execution_count": 3,
   "id": "3b343fdd",
   "metadata": {},
   "outputs": [
    {
     "name": "stdout",
     "output_type": "stream",
     "text": [
      "4\n",
      "4\n",
      "4\n",
      "4\n",
      "4\n",
      "3\n",
      "3\n",
      "3\n",
      "3\n",
      "3\n"
     ]
    }
   ],
   "source": [
    "# Load data\n",
    "IDs, faces = getImagesWithID('dataset')\n",
    "# Create recognizer\n",
    "recognizer = cv2.face.LBPHFaceRecognizer_create()\n",
    "\n",
    "# Train recognizer\n",
    "recognizer.train(faces, IDs)\n",
    "recognizer.save('recognizer/trainer.yml')"
   ]
  }
 ],
 "metadata": {
  "kernelspec": {
   "display_name": "Python 3",
   "language": "python",
   "name": "python3"
  },
  "language_info": {
   "codemirror_mode": {
    "name": "ipython",
    "version": 3
   },
   "file_extension": ".py",
   "mimetype": "text/x-python",
   "name": "python",
   "nbconvert_exporter": "python",
   "pygments_lexer": "ipython3",
   "version": "3.8.0"
  }
 },
 "nbformat": 4,
 "nbformat_minor": 5
}
