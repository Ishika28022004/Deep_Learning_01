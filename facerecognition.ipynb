{
 "cells": [
  {
   "cell_type": "code",
   "execution_count": 12,
   "id": "63311f12",
   "metadata": {},
   "outputs": [],
   "source": [
    "import cv2\n",
    "import numpy as np\n",
    "import os"
   ]
  },
  {
   "cell_type": "code",
   "execution_count": 2,
   "id": "5ccde30b",
   "metadata": {},
   "outputs": [],
   "source": [
    "cap=cv2.VideoCapture(0)\n",
    "classifier=cv2.CascadeClassifier('haarcascade_frontalface_default.xml')\n",
    "os.makedirs('images',exist_ok=True)\n",
    "name=input(\"enter name:\")\n",
    "id=input(\"enter id:\")\n",
    "count=0"
   ]
  },
  {
   "cell_type": "code",
   "execution_count": 9,
   "id": "4e5d6be7",
   "metadata": {},
   "outputs": [],
   "source": [
    "while(True):\n",
    "    res,frame=cap.read()\n",
    "    gray=cv2.cvtColor(frame,cv2.COLOR_BGR2GRAY)\n",
    "    faces=classifier.detectMultiScale(gray,1.3,minNeighbors=5)\n",
    "    for(x,y,w,h) in faces:\n",
    "        cv2.rectangle(frame,(x,y),(x+w,y+h),(0,0,255),2)\n",
    "        cv2.imshow('Face recognition System',frame)\n",
    "        if(cv2.waitKey(1) & 0xFF == ord('n')):\n",
    "            cv2.imwrite('images/'+name+'_'+id+'_'+str(count)+'.jpg',gray[y:y+h,x:x+w])\n",
    "            count+=1\n",
    "    if(count==6):\n",
    "        break\n",
    "    if cv2.waitKey(1) & 0xFF == ord('q'):\n",
    "        break\n",
    "cap.release()\n",
    "cv2.destroyAllWindows()"
   ]
  },
  {
   "cell_type": "code",
   "execution_count": 19,
   "id": "819d6465",
   "metadata": {},
   "outputs": [],
   "source": [
    "faces=[]\n",
    "IDs=[]\n",
    "def getImagesWithID(path):\n",
    "    imagePaths = [os.path.join(path, f) for f in os.listdir(path)]\n",
    "    \n",
    "    for imagePath in imagePaths:\n",
    "        faceImg = cv2.imread(imagePath, cv2.IMREAD_GRAYSCALE)  # Use grayscale\n",
    "        if faceImg is None:\n",
    "            print(f\"Could not read image: {imagePath}\")\n",
    "            continue\n",
    "        faceNp = np.array(faceImg, 'uint8')\n",
    "        \n",
    "        try:\n",
    "            ID = int(os.path.split(imagePath)[-1].split('.')[0].split('_')[1])\n",
    "        except Exception as e:\n",
    "            print(f\"Filename format issue in: {imagePath} — {e}\")\n",
    "            continue\n",
    "        \n",
    "        faces.append(faceNp)\n",
    "        IDs.append(ID)\n",
    "    \n",
    "    return np.array(IDs, dtype=np.int32), faces"
   ]
  },
  {
   "cell_type": "code",
   "execution_count": null,
   "id": "8423cc7c",
   "metadata": {},
   "outputs": [],
   "source": [
    "# Load data\n",
    "IDs, faces = getImagesWithID('images')\n",
    "\n",
    "# Create recognizer\n",
    "recognizer = cv2.face.LBPHFaceRecognizer_create()\n",
    "\n",
    "# Train with properly formatted labels\n",
    "recognizer.train(faces, IDs)\n",
    "\n",
    "# Save the trained model\n",
    "recognizer.save('trainingData.yml')\n"
   ]
  },
  {
   "cell_type": "code",
   "execution_count": null,
   "id": "6860564a",
   "metadata": {},
   "outputs": [],
   "source": []
  }
 ],
 "metadata": {
  "kernelspec": {
   "display_name": "Python 3",
   "language": "python",
   "name": "python3"
  },
  "language_info": {
   "codemirror_mode": {
    "name": "ipython",
    "version": 3
   },
   "file_extension": ".py",
   "mimetype": "text/x-python",
   "name": "python",
   "nbconvert_exporter": "python",
   "pygments_lexer": "ipython3",
   "version": "3.8.0"
  }
 },
 "nbformat": 4,
 "nbformat_minor": 5
}
